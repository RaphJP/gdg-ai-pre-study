{
 "cells": [
  {
   "cell_type": "code",
   "execution_count": null,
   "metadata": {},
   "outputs": [],
   "source": [
    "print(\"Hello python\")"
   ]
  },
  {
   "cell_type": "code",
   "execution_count": 2,
   "metadata": {},
   "outputs": [
    {
     "name": "stdout",
     "output_type": "stream",
     "text": [
      "sum : 1.0\n",
      "division : error\n"
     ]
    }
   ],
   "source": [
    "n1 = float(input(\"Enter the first num: \"))\n",
    "n2 = float(input(\"Enter the second num: \"))\n",
    "sum = n1 + n2\n",
    "if n2 == 0:\n",
    "    div = \"error\"\n",
    "else:\n",
    "    div = n1/n2\n",
    "\n",
    "print(f\"sum : {sum}\\ndivision : {div}\")"
   ]
  },
  {
   "cell_type": "code",
   "execution_count": 3,
   "metadata": {},
   "outputs": [
    {
     "name": "stdout",
     "output_type": "stream",
     "text": [
      "The area of the triangle is : 3.0\n"
     ]
    }
   ],
   "source": [
    "base = float(input(\"Enter the length of the base of the triangle: \"))\n",
    "height = float(input(\"Enter the height of the triangle\"))\n",
    "area = (1/2)*base*height\n",
    "print(f\"The area of the triangle is : {area}\")"
   ]
  },
  {
   "cell_type": "code",
   "execution_count": 4,
   "metadata": {},
   "outputs": [
    {
     "name": "stdout",
     "output_type": "stream",
     "text": [
      "This is a odd number\n"
     ]
    }
   ],
   "source": [
    "n = int(input(\"Enter the number\"))\n",
    "\n",
    "if n%2 != 0:\n",
    "    print(\"This is a odd number\")\n",
    "else:\n",
    "    print(\"This is a odd number\")"
   ]
  },
  {
   "cell_type": "code",
   "execution_count": 7,
   "metadata": {},
   "outputs": [
    {
     "name": "stdout",
     "output_type": "stream",
     "text": [
      "Root 1: -0.75 + 1.1989578808281798i\n",
      "Root 2: -0.75 - 1.1989578808281798i\n"
     ]
    }
   ],
   "source": [
    "import math\n",
    "\n",
    "a = float(input(\"Enter coefficient a: \"))\n",
    "b = float(input(\"Enter coefficient b: \"))\n",
    "c = float(input(\"Enter coefficient c: \"))\n",
    "\n",
    "d = b**2 - 4*a*c\n",
    "if d > 0:\n",
    "    r1 = ((-b+math.sqrt(d))/(2*a))\n",
    "    r2 = ((-b-math.sqrt(d))/(2*a))\n",
    "    print(f\"Root : {r1}, {r2}\")\n",
    "\n",
    "elif d == 0:\n",
    "    r = -b/(2*a)\n",
    "    print(f\"Root : {r}\")\n",
    "\n",
    "else:\n",
    "    real_part = -b / (2*a)\n",
    "    imaginary_part = math.sqrt(abs(d))/(2*a)\n",
    "    print(f\"Root 1: {real_part} + {imaginary_part}i\")\n",
    "    print(f\"Root 2: {real_part} - {imaginary_part}i\")"
   ]
  },
  {
   "cell_type": "code",
   "execution_count": 10,
   "metadata": {},
   "outputs": [
    {
     "name": "stdout",
     "output_type": "stream",
     "text": [
      "a =  1\n",
      "b =  2\n",
      "a =  2\n",
      "b =  1\n"
     ]
    }
   ],
   "source": [
    "a = int(input(\"Enter the number1\"))\n",
    "b = int(input(\"Enter the number2\"))\n",
    "\n",
    "print(\"a = \", a)\n",
    "print(\"b = \", b)\n",
    "\n",
    "a, b = b, a # swapping without a temporary variable\n",
    "\n",
    "print(\"a = \", a)\n",
    "print(\"b = \", b)"
   ]
  },
  {
   "cell_type": "code",
   "execution_count": 14,
   "metadata": {},
   "outputs": [
    {
     "name": "stdout",
     "output_type": "stream",
     "text": [
      "2 is a prime number\n"
     ]
    }
   ],
   "source": [
    "num = int(input(\"Enter an integer number: \"))\n",
    "\n",
    "temp = False\n",
    "\n",
    "if num == 1:\n",
    "\t\tprint(f\"{num} is not a prime number\")\n",
    "\t\n",
    "elif num > 1:\n",
    "\t\tfor i in range(2, num): # if num=2, the loop doesn't execute\n",
    "\t\t\t\tif num % i == 0:\n",
    "\t\t\t\t\t\ttemp = True\n",
    "\t\t\t\t\t\tbreak\n",
    "\t\t\t\t\t\t\n",
    "if temp:\n",
    "\t\tprint(f\"{num} is not a prime number\")\n",
    "else:\n",
    "\t\tprint(f\"{num} is a prime number\")"
   ]
  }
 ],
 "metadata": {
  "kernelspec": {
   "display_name": "base",
   "language": "python",
   "name": "python3"
  },
  "language_info": {
   "codemirror_mode": {
    "name": "ipython",
    "version": 3
   },
   "file_extension": ".py",
   "mimetype": "text/x-python",
   "name": "python",
   "nbconvert_exporter": "python",
   "pygments_lexer": "ipython3",
   "version": "3.9.13"
  }
 },
 "nbformat": 4,
 "nbformat_minor": 2
}
